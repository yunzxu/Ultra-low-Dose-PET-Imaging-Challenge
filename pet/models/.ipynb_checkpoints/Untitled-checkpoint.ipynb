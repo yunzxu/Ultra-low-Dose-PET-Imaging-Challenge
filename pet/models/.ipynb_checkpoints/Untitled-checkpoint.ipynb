{
 "cells": [
  {
   "cell_type": "code",
   "execution_count": null,
   "metadata": {},
   "outputs": [],
   "source": [
    "from einops import rearrange\n",
    "from timm.models.layers import DropPath, to_2tuple, trunc_normal_"
   ]
  },
  {
   "cell_type": "code",
   "execution_count": null,
   "metadata": {},
   "outputs": [],
   "source": [
    "!pip3 install timm"
   ]
  },
  {
   "cell_type": "code",
   "execution_count": null,
   "metadata": {},
   "outputs": [],
   "source": [
    "from swin_unet import SwinTransformerSys"
   ]
  },
  {
   "cell_type": "code",
   "execution_count": null,
   "metadata": {},
   "outputs": [],
   "source": [
    "model= SwinTransformerSys(img_size=256,in_chans=1,window_size=8).cuda()"
   ]
  },
  {
   "cell_type": "code",
   "execution_count": 1,
   "metadata": {},
   "outputs": [],
   "source": [
    "from torchsummary import summary"
   ]
  },
  {
   "cell_type": "code",
   "execution_count": null,
   "metadata": {},
   "outputs": [],
   "source": [
    "summary(model,input_size=(1,256,256))"
   ]
  },
  {
   "cell_type": "code",
   "execution_count": 3,
   "metadata": {},
   "outputs": [],
   "source": [
    "from edsr_net import EDSR3D"
   ]
  },
  {
   "cell_type": "code",
   "execution_count": 4,
   "metadata": {},
   "outputs": [
    {
     "name": "stdout",
     "output_type": "stream",
     "text": [
      "======================================================================\n",
      "Layer (type:depth-idx)                        Param #\n",
      "======================================================================\n",
      "├─Sequential: 1-1                             --\n",
      "|    └─ReflectionPad3d: 2-1                   --\n",
      "|    └─Conv3d: 2-2                            7,168\n",
      "├─Sequential: 1-2                             --\n",
      "|    └─EDSR3DBlock: 2-3                       --\n",
      "|    |    └─Sequential: 3-1                   3,539,456\n",
      "|    └─EDSR3DBlock: 2-4                       --\n",
      "|    |    └─Sequential: 3-2                   3,539,456\n",
      "|    └─EDSR3DBlock: 2-5                       --\n",
      "|    |    └─Sequential: 3-3                   3,539,456\n",
      "|    └─EDSR3DBlock: 2-6                       --\n",
      "|    |    └─Sequential: 3-4                   3,539,456\n",
      "|    └─EDSR3DBlock: 2-7                       --\n",
      "|    |    └─Sequential: 3-5                   3,539,456\n",
      "|    └─EDSR3DBlock: 2-8                       --\n",
      "|    |    └─Sequential: 3-6                   3,539,456\n",
      "|    └─EDSR3DBlock: 2-9                       --\n",
      "|    |    └─Sequential: 3-7                   3,539,456\n",
      "|    └─EDSR3DBlock: 2-10                      --\n",
      "|    |    └─Sequential: 3-8                   3,539,456\n",
      "|    └─EDSR3DBlock: 2-11                      --\n",
      "|    |    └─Sequential: 3-9                   3,539,456\n",
      "|    └─EDSR3DBlock: 2-12                      --\n",
      "|    |    └─Sequential: 3-10                  3,539,456\n",
      "|    └─EDSR3DBlock: 2-13                      --\n",
      "|    |    └─Sequential: 3-11                  3,539,456\n",
      "|    └─EDSR3DBlock: 2-14                      --\n",
      "|    |    └─Sequential: 3-12                  3,539,456\n",
      "|    └─EDSR3DBlock: 2-15                      --\n",
      "|    |    └─Sequential: 3-13                  3,539,456\n",
      "|    └─EDSR3DBlock: 2-16                      --\n",
      "|    |    └─Sequential: 3-14                  3,539,456\n",
      "|    └─EDSR3DBlock: 2-17                      --\n",
      "|    |    └─Sequential: 3-15                  3,539,456\n",
      "|    └─EDSR3DBlock: 2-18                      --\n",
      "|    |    └─Sequential: 3-16                  3,539,456\n",
      "|    └─EDSR3DBlock: 2-19                      --\n",
      "|    |    └─Sequential: 3-17                  3,539,456\n",
      "|    └─EDSR3DBlock: 2-20                      --\n",
      "|    |    └─Sequential: 3-18                  3,539,456\n",
      "|    └─EDSR3DBlock: 2-21                      --\n",
      "|    |    └─Sequential: 3-19                  3,539,456\n",
      "|    └─EDSR3DBlock: 2-22                      --\n",
      "|    |    └─Sequential: 3-20                  3,539,456\n",
      "|    └─EDSR3DBlock: 2-23                      --\n",
      "|    |    └─Sequential: 3-21                  3,539,456\n",
      "|    └─EDSR3DBlock: 2-24                      --\n",
      "|    |    └─Sequential: 3-22                  3,539,456\n",
      "|    └─EDSR3DBlock: 2-25                      --\n",
      "|    |    └─Sequential: 3-23                  3,539,456\n",
      "|    └─EDSR3DBlock: 2-26                      --\n",
      "|    |    └─Sequential: 3-24                  3,539,456\n",
      "|    └─EDSR3DBlock: 2-27                      --\n",
      "|    |    └─Sequential: 3-25                  3,539,456\n",
      "|    └─EDSR3DBlock: 2-28                      --\n",
      "|    |    └─Sequential: 3-26                  3,539,456\n",
      "|    └─EDSR3DBlock: 2-29                      --\n",
      "|    |    └─Sequential: 3-27                  3,539,456\n",
      "|    └─EDSR3DBlock: 2-30                      --\n",
      "|    |    └─Sequential: 3-28                  3,539,456\n",
      "|    └─EDSR3DBlock: 2-31                      --\n",
      "|    |    └─Sequential: 3-29                  3,539,456\n",
      "|    └─EDSR3DBlock: 2-32                      --\n",
      "|    |    └─Sequential: 3-30                  3,539,456\n",
      "|    └─EDSR3DBlock: 2-33                      --\n",
      "|    |    └─Sequential: 3-31                  3,539,456\n",
      "|    └─EDSR3DBlock: 2-34                      --\n",
      "|    |    └─Sequential: 3-32                  3,539,456\n",
      "|    └─ReflectionPad3d: 2-35                  --\n",
      "|    └─Conv3d: 2-36                           1,769,728\n",
      "├─Sequential: 1-3                             --\n",
      "|    └─ReflectionPad3d: 2-37                  --\n",
      "|    └─Conv3d: 2-38                           6,913\n",
      "======================================================================\n",
      "Total params: 115,046,401\n",
      "Trainable params: 115,046,401\n",
      "Non-trainable params: 0\n",
      "======================================================================\n"
     ]
    },
    {
     "data": {
      "text/plain": [
       "======================================================================\n",
       "Layer (type:depth-idx)                        Param #\n",
       "======================================================================\n",
       "├─Sequential: 1-1                             --\n",
       "|    └─ReflectionPad3d: 2-1                   --\n",
       "|    └─Conv3d: 2-2                            7,168\n",
       "├─Sequential: 1-2                             --\n",
       "|    └─EDSR3DBlock: 2-3                       --\n",
       "|    |    └─Sequential: 3-1                   3,539,456\n",
       "|    └─EDSR3DBlock: 2-4                       --\n",
       "|    |    └─Sequential: 3-2                   3,539,456\n",
       "|    └─EDSR3DBlock: 2-5                       --\n",
       "|    |    └─Sequential: 3-3                   3,539,456\n",
       "|    └─EDSR3DBlock: 2-6                       --\n",
       "|    |    └─Sequential: 3-4                   3,539,456\n",
       "|    └─EDSR3DBlock: 2-7                       --\n",
       "|    |    └─Sequential: 3-5                   3,539,456\n",
       "|    └─EDSR3DBlock: 2-8                       --\n",
       "|    |    └─Sequential: 3-6                   3,539,456\n",
       "|    └─EDSR3DBlock: 2-9                       --\n",
       "|    |    └─Sequential: 3-7                   3,539,456\n",
       "|    └─EDSR3DBlock: 2-10                      --\n",
       "|    |    └─Sequential: 3-8                   3,539,456\n",
       "|    └─EDSR3DBlock: 2-11                      --\n",
       "|    |    └─Sequential: 3-9                   3,539,456\n",
       "|    └─EDSR3DBlock: 2-12                      --\n",
       "|    |    └─Sequential: 3-10                  3,539,456\n",
       "|    └─EDSR3DBlock: 2-13                      --\n",
       "|    |    └─Sequential: 3-11                  3,539,456\n",
       "|    └─EDSR3DBlock: 2-14                      --\n",
       "|    |    └─Sequential: 3-12                  3,539,456\n",
       "|    └─EDSR3DBlock: 2-15                      --\n",
       "|    |    └─Sequential: 3-13                  3,539,456\n",
       "|    └─EDSR3DBlock: 2-16                      --\n",
       "|    |    └─Sequential: 3-14                  3,539,456\n",
       "|    └─EDSR3DBlock: 2-17                      --\n",
       "|    |    └─Sequential: 3-15                  3,539,456\n",
       "|    └─EDSR3DBlock: 2-18                      --\n",
       "|    |    └─Sequential: 3-16                  3,539,456\n",
       "|    └─EDSR3DBlock: 2-19                      --\n",
       "|    |    └─Sequential: 3-17                  3,539,456\n",
       "|    └─EDSR3DBlock: 2-20                      --\n",
       "|    |    └─Sequential: 3-18                  3,539,456\n",
       "|    └─EDSR3DBlock: 2-21                      --\n",
       "|    |    └─Sequential: 3-19                  3,539,456\n",
       "|    └─EDSR3DBlock: 2-22                      --\n",
       "|    |    └─Sequential: 3-20                  3,539,456\n",
       "|    └─EDSR3DBlock: 2-23                      --\n",
       "|    |    └─Sequential: 3-21                  3,539,456\n",
       "|    └─EDSR3DBlock: 2-24                      --\n",
       "|    |    └─Sequential: 3-22                  3,539,456\n",
       "|    └─EDSR3DBlock: 2-25                      --\n",
       "|    |    └─Sequential: 3-23                  3,539,456\n",
       "|    └─EDSR3DBlock: 2-26                      --\n",
       "|    |    └─Sequential: 3-24                  3,539,456\n",
       "|    └─EDSR3DBlock: 2-27                      --\n",
       "|    |    └─Sequential: 3-25                  3,539,456\n",
       "|    └─EDSR3DBlock: 2-28                      --\n",
       "|    |    └─Sequential: 3-26                  3,539,456\n",
       "|    └─EDSR3DBlock: 2-29                      --\n",
       "|    |    └─Sequential: 3-27                  3,539,456\n",
       "|    └─EDSR3DBlock: 2-30                      --\n",
       "|    |    └─Sequential: 3-28                  3,539,456\n",
       "|    └─EDSR3DBlock: 2-31                      --\n",
       "|    |    └─Sequential: 3-29                  3,539,456\n",
       "|    └─EDSR3DBlock: 2-32                      --\n",
       "|    |    └─Sequential: 3-30                  3,539,456\n",
       "|    └─EDSR3DBlock: 2-33                      --\n",
       "|    |    └─Sequential: 3-31                  3,539,456\n",
       "|    └─EDSR3DBlock: 2-34                      --\n",
       "|    |    └─Sequential: 3-32                  3,539,456\n",
       "|    └─ReflectionPad3d: 2-35                  --\n",
       "|    └─Conv3d: 2-36                           1,769,728\n",
       "├─Sequential: 1-3                             --\n",
       "|    └─ReflectionPad3d: 2-37                  --\n",
       "|    └─Conv3d: 2-38                           6,913\n",
       "======================================================================\n",
       "Total params: 115,046,401\n",
       "Trainable params: 115,046,401\n",
       "Non-trainable params: 0\n",
       "======================================================================"
      ]
     },
     "execution_count": 4,
     "metadata": {},
     "output_type": "execute_result"
    }
   ],
   "source": [
    "model=EDSR3D()\n",
    "summary(model,input_size=(1,96,96,96))"
   ]
  },
  {
   "cell_type": "code",
   "execution_count": null,
   "metadata": {},
   "outputs": [],
   "source": [
    "import torch\n",
    "torch.version"
   ]
  },
  {
   "cell_type": "code",
   "execution_count": null,
   "metadata": {},
   "outputs": [],
   "source": [
    "!pip3 list"
   ]
  },
  {
   "cell_type": "code",
   "execution_count": null,
   "metadata": {},
   "outputs": [],
   "source": []
  }
 ],
 "metadata": {
  "kernelspec": {
   "display_name": "Python 3",
   "language": "python",
   "name": "python3"
  },
  "language_info": {
   "codemirror_mode": {
    "name": "ipython",
    "version": 3
   },
   "file_extension": ".py",
   "mimetype": "text/x-python",
   "name": "python",
   "nbconvert_exporter": "python",
   "pygments_lexer": "ipython3",
   "version": "3.8.10"
  }
 },
 "nbformat": 4,
 "nbformat_minor": 4
}
